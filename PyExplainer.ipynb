{
  "cells": [
    {
      "cell_type": "code",
      "execution_count": null,
      "metadata": {
        "id": "n1eDjcLnHu8z"
      },
      "outputs": [],
      "source": [
        "import pandas as pd\n",
        "from sklearn.model_selection import train_test_split\n",
        "from sklearn.ensemble import RandomForestClassifier\n",
        "from sklearn.feature_selection import SelectFromModel\n",
        "from sklearn.metrics import accuracy_score\n",
        "from sklearn.feature_selection import SelectFromModel\n"
      ]
    },
    {
      "cell_type": "code",
      "execution_count": null,
      "metadata": {
        "id": "WskIkliFJnTg"
      },
      "outputs": [],
      "source": [
        "df = pd.read_csv('ant-1.3.csv')"
      ]
    },
    {
      "cell_type": "markdown",
      "metadata": {
        "id": "6U9VCZEJkVz9"
      },
      "source": []
    },
    {
      "cell_type": "code",
      "execution_count": null,
      "metadata": {
        "colab": {
          "base_uri": "https://localhost:8080/",
          "height": 424
        },
        "id": "ax9PhZGaJo9M",
        "outputId": "dceca7b2-d519-4625-c6b1-6c166cefc9cd"
      },
      "outputs": [
        {
          "data": {
            "text/html": [
              "<div>\n",
              "<style scoped>\n",
              "    .dataframe tbody tr th:only-of-type {\n",
              "        vertical-align: middle;\n",
              "    }\n",
              "\n",
              "    .dataframe tbody tr th {\n",
              "        vertical-align: top;\n",
              "    }\n",
              "\n",
              "    .dataframe thead th {\n",
              "        text-align: right;\n",
              "    }\n",
              "</style>\n",
              "<table border=\"1\" class=\"dataframe\">\n",
              "  <thead>\n",
              "    <tr style=\"text-align: right;\">\n",
              "      <th></th>\n",
              "      <th>name</th>\n",
              "      <th>version</th>\n",
              "      <th>name.1</th>\n",
              "      <th>wmc</th>\n",
              "      <th>dit</th>\n",
              "      <th>noc</th>\n",
              "      <th>cbo</th>\n",
              "      <th>rfc</th>\n",
              "      <th>lcom</th>\n",
              "      <th>ca</th>\n",
              "      <th>...</th>\n",
              "      <th>dam</th>\n",
              "      <th>moa</th>\n",
              "      <th>mfa</th>\n",
              "      <th>cam</th>\n",
              "      <th>ic</th>\n",
              "      <th>cbm</th>\n",
              "      <th>amc</th>\n",
              "      <th>max_cc</th>\n",
              "      <th>avg_cc</th>\n",
              "      <th>bug</th>\n",
              "    </tr>\n",
              "  </thead>\n",
              "  <tbody>\n",
              "    <tr>\n",
              "      <th>0</th>\n",
              "      <td>ant</td>\n",
              "      <td>1.3</td>\n",
              "      <td>org.apache.tools.ant.taskdefs.ExecuteOn</td>\n",
              "      <td>11</td>\n",
              "      <td>4</td>\n",
              "      <td>2</td>\n",
              "      <td>14</td>\n",
              "      <td>42</td>\n",
              "      <td>29</td>\n",
              "      <td>2</td>\n",
              "      <td>...</td>\n",
              "      <td>1.0000</td>\n",
              "      <td>1</td>\n",
              "      <td>0.885057</td>\n",
              "      <td>0.232323</td>\n",
              "      <td>3</td>\n",
              "      <td>4</td>\n",
              "      <td>34.545455</td>\n",
              "      <td>3</td>\n",
              "      <td>1.2727</td>\n",
              "      <td>0</td>\n",
              "    </tr>\n",
              "    <tr>\n",
              "      <th>1</th>\n",
              "      <td>ant</td>\n",
              "      <td>1.3</td>\n",
              "      <td>org.apache.tools.ant.DefaultLogger</td>\n",
              "      <td>14</td>\n",
              "      <td>1</td>\n",
              "      <td>1</td>\n",
              "      <td>8</td>\n",
              "      <td>32</td>\n",
              "      <td>49</td>\n",
              "      <td>4</td>\n",
              "      <td>...</td>\n",
              "      <td>1.0000</td>\n",
              "      <td>0</td>\n",
              "      <td>0.000000</td>\n",
              "      <td>0.307692</td>\n",
              "      <td>0</td>\n",
              "      <td>0</td>\n",
              "      <td>16.857143</td>\n",
              "      <td>6</td>\n",
              "      <td>1.6429</td>\n",
              "      <td>1</td>\n",
              "    </tr>\n",
              "    <tr>\n",
              "      <th>2</th>\n",
              "      <td>ant</td>\n",
              "      <td>1.3</td>\n",
              "      <td>org.apache.tools.ant.taskdefs.TaskOutputStream</td>\n",
              "      <td>3</td>\n",
              "      <td>2</td>\n",
              "      <td>0</td>\n",
              "      <td>1</td>\n",
              "      <td>9</td>\n",
              "      <td>0</td>\n",
              "      <td>0</td>\n",
              "      <td>...</td>\n",
              "      <td>1.0000</td>\n",
              "      <td>1</td>\n",
              "      <td>0.714286</td>\n",
              "      <td>0.666667</td>\n",
              "      <td>1</td>\n",
              "      <td>1</td>\n",
              "      <td>17.333333</td>\n",
              "      <td>1</td>\n",
              "      <td>0.6667</td>\n",
              "      <td>0</td>\n",
              "    </tr>\n",
              "    <tr>\n",
              "      <th>3</th>\n",
              "      <td>ant</td>\n",
              "      <td>1.3</td>\n",
              "      <td>org.apache.tools.ant.taskdefs.Cvs</td>\n",
              "      <td>12</td>\n",
              "      <td>3</td>\n",
              "      <td>0</td>\n",
              "      <td>12</td>\n",
              "      <td>37</td>\n",
              "      <td>32</td>\n",
              "      <td>0</td>\n",
              "      <td>...</td>\n",
              "      <td>1.0000</td>\n",
              "      <td>1</td>\n",
              "      <td>0.770833</td>\n",
              "      <td>0.458333</td>\n",
              "      <td>0</td>\n",
              "      <td>0</td>\n",
              "      <td>24.083333</td>\n",
              "      <td>3</td>\n",
              "      <td>1.4167</td>\n",
              "      <td>0</td>\n",
              "    </tr>\n",
              "    <tr>\n",
              "      <th>4</th>\n",
              "      <td>ant</td>\n",
              "      <td>1.3</td>\n",
              "      <td>org.apache.tools.ant.taskdefs.Copyfile</td>\n",
              "      <td>6</td>\n",
              "      <td>3</td>\n",
              "      <td>0</td>\n",
              "      <td>4</td>\n",
              "      <td>21</td>\n",
              "      <td>1</td>\n",
              "      <td>0</td>\n",
              "      <td>...</td>\n",
              "      <td>1.0000</td>\n",
              "      <td>0</td>\n",
              "      <td>0.880952</td>\n",
              "      <td>0.416667</td>\n",
              "      <td>2</td>\n",
              "      <td>2</td>\n",
              "      <td>21.000000</td>\n",
              "      <td>1</td>\n",
              "      <td>0.8333</td>\n",
              "      <td>0</td>\n",
              "    </tr>\n",
              "    <tr>\n",
              "      <th>...</th>\n",
              "      <td>...</td>\n",
              "      <td>...</td>\n",
              "      <td>...</td>\n",
              "      <td>...</td>\n",
              "      <td>...</td>\n",
              "      <td>...</td>\n",
              "      <td>...</td>\n",
              "      <td>...</td>\n",
              "      <td>...</td>\n",
              "      <td>...</td>\n",
              "      <td>...</td>\n",
              "      <td>...</td>\n",
              "      <td>...</td>\n",
              "      <td>...</td>\n",
              "      <td>...</td>\n",
              "      <td>...</td>\n",
              "      <td>...</td>\n",
              "      <td>...</td>\n",
              "      <td>...</td>\n",
              "      <td>...</td>\n",
              "      <td>...</td>\n",
              "    </tr>\n",
              "    <tr>\n",
              "      <th>120</th>\n",
              "      <td>ant</td>\n",
              "      <td>1.3</td>\n",
              "      <td>org.apache.tools.ant.taskdefs.Javadoc</td>\n",
              "      <td>65</td>\n",
              "      <td>3</td>\n",
              "      <td>0</td>\n",
              "      <td>21</td>\n",
              "      <td>155</td>\n",
              "      <td>1670</td>\n",
              "      <td>6</td>\n",
              "      <td>...</td>\n",
              "      <td>1.0000</td>\n",
              "      <td>5</td>\n",
              "      <td>0.370000</td>\n",
              "      <td>0.244141</td>\n",
              "      <td>3</td>\n",
              "      <td>3</td>\n",
              "      <td>21.830769</td>\n",
              "      <td>10</td>\n",
              "      <td>1.5231</td>\n",
              "      <td>0</td>\n",
              "    </tr>\n",
              "    <tr>\n",
              "      <th>121</th>\n",
              "      <td>ant</td>\n",
              "      <td>1.3</td>\n",
              "      <td>org.apache.tools.ant.BuildException</td>\n",
              "      <td>14</td>\n",
              "      <td>4</td>\n",
              "      <td>0</td>\n",
              "      <td>99</td>\n",
              "      <td>28</td>\n",
              "      <td>0</td>\n",
              "      <td>98</td>\n",
              "      <td>...</td>\n",
              "      <td>1.0000</td>\n",
              "      <td>1</td>\n",
              "      <td>0.650000</td>\n",
              "      <td>0.333333</td>\n",
              "      <td>1</td>\n",
              "      <td>2</td>\n",
              "      <td>9.785714</td>\n",
              "      <td>2</td>\n",
              "      <td>0.6429</td>\n",
              "      <td>0</td>\n",
              "    </tr>\n",
              "    <tr>\n",
              "      <th>122</th>\n",
              "      <td>ant</td>\n",
              "      <td>1.3</td>\n",
              "      <td>org.apache.tools.ant.IntrospectionHelper</td>\n",
              "      <td>14</td>\n",
              "      <td>1</td>\n",
              "      <td>0</td>\n",
              "      <td>24</td>\n",
              "      <td>63</td>\n",
              "      <td>63</td>\n",
              "      <td>20</td>\n",
              "      <td>...</td>\n",
              "      <td>0.4375</td>\n",
              "      <td>0</td>\n",
              "      <td>0.000000</td>\n",
              "      <td>0.333333</td>\n",
              "      <td>0</td>\n",
              "      <td>0</td>\n",
              "      <td>56.571429</td>\n",
              "      <td>24</td>\n",
              "      <td>2.7857</td>\n",
              "      <td>1</td>\n",
              "    </tr>\n",
              "    <tr>\n",
              "      <th>123</th>\n",
              "      <td>ant</td>\n",
              "      <td>1.3</td>\n",
              "      <td>org.apache.tools.ant.NoBannerLogger</td>\n",
              "      <td>4</td>\n",
              "      <td>2</td>\n",
              "      <td>0</td>\n",
              "      <td>3</td>\n",
              "      <td>16</td>\n",
              "      <td>0</td>\n",
              "      <td>0</td>\n",
              "      <td>...</td>\n",
              "      <td>1.0000</td>\n",
              "      <td>0</td>\n",
              "      <td>0.842105</td>\n",
              "      <td>0.875000</td>\n",
              "      <td>1</td>\n",
              "      <td>1</td>\n",
              "      <td>13.500000</td>\n",
              "      <td>5</td>\n",
              "      <td>1.7500</td>\n",
              "      <td>0</td>\n",
              "    </tr>\n",
              "    <tr>\n",
              "      <th>124</th>\n",
              "      <td>ant</td>\n",
              "      <td>1.3</td>\n",
              "      <td>org.apache.tools.mail.MailMessage</td>\n",
              "      <td>27</td>\n",
              "      <td>1</td>\n",
              "      <td>0</td>\n",
              "      <td>3</td>\n",
              "      <td>63</td>\n",
              "      <td>297</td>\n",
              "      <td>1</td>\n",
              "      <td>...</td>\n",
              "      <td>0.0000</td>\n",
              "      <td>2</td>\n",
              "      <td>0.000000</td>\n",
              "      <td>0.379630</td>\n",
              "      <td>0</td>\n",
              "      <td>0</td>\n",
              "      <td>18.222222</td>\n",
              "      <td>11</td>\n",
              "      <td>1.4444</td>\n",
              "      <td>0</td>\n",
              "    </tr>\n",
              "  </tbody>\n",
              "</table>\n",
              "<p>125 rows × 24 columns</p>\n",
              "</div>"
            ],
            "text/plain": [
              "    name  version                                          name.1  wmc  dit  \\\n",
              "0    ant      1.3         org.apache.tools.ant.taskdefs.ExecuteOn   11    4   \n",
              "1    ant      1.3              org.apache.tools.ant.DefaultLogger   14    1   \n",
              "2    ant      1.3  org.apache.tools.ant.taskdefs.TaskOutputStream    3    2   \n",
              "3    ant      1.3               org.apache.tools.ant.taskdefs.Cvs   12    3   \n",
              "4    ant      1.3          org.apache.tools.ant.taskdefs.Copyfile    6    3   \n",
              "..   ...      ...                                             ...  ...  ...   \n",
              "120  ant      1.3           org.apache.tools.ant.taskdefs.Javadoc   65    3   \n",
              "121  ant      1.3             org.apache.tools.ant.BuildException   14    4   \n",
              "122  ant      1.3        org.apache.tools.ant.IntrospectionHelper   14    1   \n",
              "123  ant      1.3             org.apache.tools.ant.NoBannerLogger    4    2   \n",
              "124  ant      1.3               org.apache.tools.mail.MailMessage   27    1   \n",
              "\n",
              "     noc  cbo  rfc  lcom  ca  ...     dam  moa       mfa       cam  ic  cbm  \\\n",
              "0      2   14   42    29   2  ...  1.0000    1  0.885057  0.232323   3    4   \n",
              "1      1    8   32    49   4  ...  1.0000    0  0.000000  0.307692   0    0   \n",
              "2      0    1    9     0   0  ...  1.0000    1  0.714286  0.666667   1    1   \n",
              "3      0   12   37    32   0  ...  1.0000    1  0.770833  0.458333   0    0   \n",
              "4      0    4   21     1   0  ...  1.0000    0  0.880952  0.416667   2    2   \n",
              "..   ...  ...  ...   ...  ..  ...     ...  ...       ...       ...  ..  ...   \n",
              "120    0   21  155  1670   6  ...  1.0000    5  0.370000  0.244141   3    3   \n",
              "121    0   99   28     0  98  ...  1.0000    1  0.650000  0.333333   1    2   \n",
              "122    0   24   63    63  20  ...  0.4375    0  0.000000  0.333333   0    0   \n",
              "123    0    3   16     0   0  ...  1.0000    0  0.842105  0.875000   1    1   \n",
              "124    0    3   63   297   1  ...  0.0000    2  0.000000  0.379630   0    0   \n",
              "\n",
              "           amc  max_cc  avg_cc  bug  \n",
              "0    34.545455       3  1.2727    0  \n",
              "1    16.857143       6  1.6429    1  \n",
              "2    17.333333       1  0.6667    0  \n",
              "3    24.083333       3  1.4167    0  \n",
              "4    21.000000       1  0.8333    0  \n",
              "..         ...     ...     ...  ...  \n",
              "120  21.830769      10  1.5231    0  \n",
              "121   9.785714       2  0.6429    0  \n",
              "122  56.571429      24  2.7857    1  \n",
              "123  13.500000       5  1.7500    0  \n",
              "124  18.222222      11  1.4444    0  \n",
              "\n",
              "[125 rows x 24 columns]"
            ]
          },
          "execution_count": 189,
          "metadata": {},
          "output_type": "execute_result"
        }
      ],
      "source": [
        "df['bug'] = df['bug'].apply(lambda x: 1 if x > 0 else 0)\n",
        "df"
      ]
    },
    {
      "cell_type": "code",
      "execution_count": null,
      "metadata": {
        "id": "kYtIL671JqfX"
      },
      "outputs": [],
      "source": [
        "df.drop(columns=['name', 'version', 'name.1'], inplace=True)"
      ]
    },
    {
      "cell_type": "code",
      "execution_count": null,
      "metadata": {
        "id": "-a7ZHS3B09Ws"
      },
      "outputs": [],
      "source": [
        "df.rename(columns = {'lcom3':'lcomthree'}, inplace = True)"
      ]
    },
    {
      "cell_type": "code",
      "execution_count": null,
      "metadata": {
        "id": "8XkYkUi3axD-"
      },
      "outputs": [],
      "source": [
        "X = df.drop('bug', axis=1)\n",
        "y = df['bug']"
      ]
    },
    {
      "cell_type": "code",
      "execution_count": null,
      "metadata": {
        "colab": {
          "base_uri": "https://localhost:8080/",
          "height": 424
        },
        "id": "90msdfA_K8CG",
        "outputId": "42593a9b-1657-488d-ecff-93fc16cced77"
      },
      "outputs": [
        {
          "data": {
            "text/html": [
              "<div>\n",
              "<style scoped>\n",
              "    .dataframe tbody tr th:only-of-type {\n",
              "        vertical-align: middle;\n",
              "    }\n",
              "\n",
              "    .dataframe tbody tr th {\n",
              "        vertical-align: top;\n",
              "    }\n",
              "\n",
              "    .dataframe thead th {\n",
              "        text-align: right;\n",
              "    }\n",
              "</style>\n",
              "<table border=\"1\" class=\"dataframe\">\n",
              "  <thead>\n",
              "    <tr style=\"text-align: right;\">\n",
              "      <th></th>\n",
              "      <th>wmc</th>\n",
              "      <th>dit</th>\n",
              "      <th>noc</th>\n",
              "      <th>cbo</th>\n",
              "      <th>rfc</th>\n",
              "      <th>lcom</th>\n",
              "      <th>ca</th>\n",
              "      <th>ce</th>\n",
              "      <th>npm</th>\n",
              "      <th>lcomthree</th>\n",
              "      <th>loc</th>\n",
              "      <th>dam</th>\n",
              "      <th>moa</th>\n",
              "      <th>mfa</th>\n",
              "      <th>cam</th>\n",
              "      <th>ic</th>\n",
              "      <th>cbm</th>\n",
              "      <th>amc</th>\n",
              "      <th>max_cc</th>\n",
              "      <th>avg_cc</th>\n",
              "    </tr>\n",
              "  </thead>\n",
              "  <tbody>\n",
              "    <tr>\n",
              "      <th>0</th>\n",
              "      <td>11</td>\n",
              "      <td>4</td>\n",
              "      <td>2</td>\n",
              "      <td>14</td>\n",
              "      <td>42</td>\n",
              "      <td>29</td>\n",
              "      <td>2</td>\n",
              "      <td>12</td>\n",
              "      <td>5</td>\n",
              "      <td>0.725000</td>\n",
              "      <td>395</td>\n",
              "      <td>1.0000</td>\n",
              "      <td>1</td>\n",
              "      <td>0.885057</td>\n",
              "      <td>0.232323</td>\n",
              "      <td>3</td>\n",
              "      <td>4</td>\n",
              "      <td>34.545455</td>\n",
              "      <td>3</td>\n",
              "      <td>1.2727</td>\n",
              "    </tr>\n",
              "    <tr>\n",
              "      <th>1</th>\n",
              "      <td>14</td>\n",
              "      <td>1</td>\n",
              "      <td>1</td>\n",
              "      <td>8</td>\n",
              "      <td>32</td>\n",
              "      <td>49</td>\n",
              "      <td>4</td>\n",
              "      <td>4</td>\n",
              "      <td>12</td>\n",
              "      <td>0.835165</td>\n",
              "      <td>257</td>\n",
              "      <td>1.0000</td>\n",
              "      <td>0</td>\n",
              "      <td>0.000000</td>\n",
              "      <td>0.307692</td>\n",
              "      <td>0</td>\n",
              "      <td>0</td>\n",
              "      <td>16.857143</td>\n",
              "      <td>6</td>\n",
              "      <td>1.6429</td>\n",
              "    </tr>\n",
              "    <tr>\n",
              "      <th>2</th>\n",
              "      <td>3</td>\n",
              "      <td>2</td>\n",
              "      <td>0</td>\n",
              "      <td>1</td>\n",
              "      <td>9</td>\n",
              "      <td>0</td>\n",
              "      <td>0</td>\n",
              "      <td>1</td>\n",
              "      <td>1</td>\n",
              "      <td>0.000000</td>\n",
              "      <td>58</td>\n",
              "      <td>1.0000</td>\n",
              "      <td>1</td>\n",
              "      <td>0.714286</td>\n",
              "      <td>0.666667</td>\n",
              "      <td>1</td>\n",
              "      <td>1</td>\n",
              "      <td>17.333333</td>\n",
              "      <td>1</td>\n",
              "      <td>0.6667</td>\n",
              "    </tr>\n",
              "    <tr>\n",
              "      <th>3</th>\n",
              "      <td>12</td>\n",
              "      <td>3</td>\n",
              "      <td>0</td>\n",
              "      <td>12</td>\n",
              "      <td>37</td>\n",
              "      <td>32</td>\n",
              "      <td>0</td>\n",
              "      <td>12</td>\n",
              "      <td>12</td>\n",
              "      <td>0.858586</td>\n",
              "      <td>310</td>\n",
              "      <td>1.0000</td>\n",
              "      <td>1</td>\n",
              "      <td>0.770833</td>\n",
              "      <td>0.458333</td>\n",
              "      <td>0</td>\n",
              "      <td>0</td>\n",
              "      <td>24.083333</td>\n",
              "      <td>3</td>\n",
              "      <td>1.4167</td>\n",
              "    </tr>\n",
              "    <tr>\n",
              "      <th>4</th>\n",
              "      <td>6</td>\n",
              "      <td>3</td>\n",
              "      <td>0</td>\n",
              "      <td>4</td>\n",
              "      <td>21</td>\n",
              "      <td>1</td>\n",
              "      <td>0</td>\n",
              "      <td>4</td>\n",
              "      <td>6</td>\n",
              "      <td>0.700000</td>\n",
              "      <td>136</td>\n",
              "      <td>1.0000</td>\n",
              "      <td>0</td>\n",
              "      <td>0.880952</td>\n",
              "      <td>0.416667</td>\n",
              "      <td>2</td>\n",
              "      <td>2</td>\n",
              "      <td>21.000000</td>\n",
              "      <td>1</td>\n",
              "      <td>0.8333</td>\n",
              "    </tr>\n",
              "    <tr>\n",
              "      <th>...</th>\n",
              "      <td>...</td>\n",
              "      <td>...</td>\n",
              "      <td>...</td>\n",
              "      <td>...</td>\n",
              "      <td>...</td>\n",
              "      <td>...</td>\n",
              "      <td>...</td>\n",
              "      <td>...</td>\n",
              "      <td>...</td>\n",
              "      <td>...</td>\n",
              "      <td>...</td>\n",
              "      <td>...</td>\n",
              "      <td>...</td>\n",
              "      <td>...</td>\n",
              "      <td>...</td>\n",
              "      <td>...</td>\n",
              "      <td>...</td>\n",
              "      <td>...</td>\n",
              "      <td>...</td>\n",
              "      <td>...</td>\n",
              "    </tr>\n",
              "    <tr>\n",
              "      <th>120</th>\n",
              "      <td>65</td>\n",
              "      <td>3</td>\n",
              "      <td>0</td>\n",
              "      <td>21</td>\n",
              "      <td>155</td>\n",
              "      <td>1670</td>\n",
              "      <td>6</td>\n",
              "      <td>21</td>\n",
              "      <td>59</td>\n",
              "      <td>0.917188</td>\n",
              "      <td>1504</td>\n",
              "      <td>1.0000</td>\n",
              "      <td>5</td>\n",
              "      <td>0.370000</td>\n",
              "      <td>0.244141</td>\n",
              "      <td>3</td>\n",
              "      <td>3</td>\n",
              "      <td>21.830769</td>\n",
              "      <td>10</td>\n",
              "      <td>1.5231</td>\n",
              "    </tr>\n",
              "    <tr>\n",
              "      <th>121</th>\n",
              "      <td>14</td>\n",
              "      <td>4</td>\n",
              "      <td>0</td>\n",
              "      <td>99</td>\n",
              "      <td>28</td>\n",
              "      <td>0</td>\n",
              "      <td>98</td>\n",
              "      <td>1</td>\n",
              "      <td>14</td>\n",
              "      <td>0.384615</td>\n",
              "      <td>153</td>\n",
              "      <td>1.0000</td>\n",
              "      <td>1</td>\n",
              "      <td>0.650000</td>\n",
              "      <td>0.333333</td>\n",
              "      <td>1</td>\n",
              "      <td>2</td>\n",
              "      <td>9.785714</td>\n",
              "      <td>2</td>\n",
              "      <td>0.6429</td>\n",
              "    </tr>\n",
              "    <tr>\n",
              "      <th>122</th>\n",
              "      <td>14</td>\n",
              "      <td>1</td>\n",
              "      <td>0</td>\n",
              "      <td>24</td>\n",
              "      <td>63</td>\n",
              "      <td>63</td>\n",
              "      <td>20</td>\n",
              "      <td>20</td>\n",
              "      <td>9</td>\n",
              "      <td>0.841346</td>\n",
              "      <td>822</td>\n",
              "      <td>0.4375</td>\n",
              "      <td>0</td>\n",
              "      <td>0.000000</td>\n",
              "      <td>0.333333</td>\n",
              "      <td>0</td>\n",
              "      <td>0</td>\n",
              "      <td>56.571429</td>\n",
              "      <td>24</td>\n",
              "      <td>2.7857</td>\n",
              "    </tr>\n",
              "    <tr>\n",
              "      <th>123</th>\n",
              "      <td>4</td>\n",
              "      <td>2</td>\n",
              "      <td>0</td>\n",
              "      <td>3</td>\n",
              "      <td>16</td>\n",
              "      <td>0</td>\n",
              "      <td>0</td>\n",
              "      <td>3</td>\n",
              "      <td>4</td>\n",
              "      <td>0.333333</td>\n",
              "      <td>59</td>\n",
              "      <td>1.0000</td>\n",
              "      <td>0</td>\n",
              "      <td>0.842105</td>\n",
              "      <td>0.875000</td>\n",
              "      <td>1</td>\n",
              "      <td>1</td>\n",
              "      <td>13.500000</td>\n",
              "      <td>5</td>\n",
              "      <td>1.7500</td>\n",
              "    </tr>\n",
              "    <tr>\n",
              "      <th>124</th>\n",
              "      <td>27</td>\n",
              "      <td>1</td>\n",
              "      <td>0</td>\n",
              "      <td>3</td>\n",
              "      <td>63</td>\n",
              "      <td>297</td>\n",
              "      <td>1</td>\n",
              "      <td>2</td>\n",
              "      <td>10</td>\n",
              "      <td>0.778846</td>\n",
              "      <td>527</td>\n",
              "      <td>0.0000</td>\n",
              "      <td>2</td>\n",
              "      <td>0.000000</td>\n",
              "      <td>0.379630</td>\n",
              "      <td>0</td>\n",
              "      <td>0</td>\n",
              "      <td>18.222222</td>\n",
              "      <td>11</td>\n",
              "      <td>1.4444</td>\n",
              "    </tr>\n",
              "  </tbody>\n",
              "</table>\n",
              "<p>125 rows × 20 columns</p>\n",
              "</div>"
            ],
            "text/plain": [
              "     wmc  dit  noc  cbo  rfc  lcom  ca  ce  npm  lcomthree   loc     dam  moa  \\\n",
              "0     11    4    2   14   42    29   2  12    5   0.725000   395  1.0000    1   \n",
              "1     14    1    1    8   32    49   4   4   12   0.835165   257  1.0000    0   \n",
              "2      3    2    0    1    9     0   0   1    1   0.000000    58  1.0000    1   \n",
              "3     12    3    0   12   37    32   0  12   12   0.858586   310  1.0000    1   \n",
              "4      6    3    0    4   21     1   0   4    6   0.700000   136  1.0000    0   \n",
              "..   ...  ...  ...  ...  ...   ...  ..  ..  ...        ...   ...     ...  ...   \n",
              "120   65    3    0   21  155  1670   6  21   59   0.917188  1504  1.0000    5   \n",
              "121   14    4    0   99   28     0  98   1   14   0.384615   153  1.0000    1   \n",
              "122   14    1    0   24   63    63  20  20    9   0.841346   822  0.4375    0   \n",
              "123    4    2    0    3   16     0   0   3    4   0.333333    59  1.0000    0   \n",
              "124   27    1    0    3   63   297   1   2   10   0.778846   527  0.0000    2   \n",
              "\n",
              "          mfa       cam  ic  cbm        amc  max_cc  avg_cc  \n",
              "0    0.885057  0.232323   3    4  34.545455       3  1.2727  \n",
              "1    0.000000  0.307692   0    0  16.857143       6  1.6429  \n",
              "2    0.714286  0.666667   1    1  17.333333       1  0.6667  \n",
              "3    0.770833  0.458333   0    0  24.083333       3  1.4167  \n",
              "4    0.880952  0.416667   2    2  21.000000       1  0.8333  \n",
              "..        ...       ...  ..  ...        ...     ...     ...  \n",
              "120  0.370000  0.244141   3    3  21.830769      10  1.5231  \n",
              "121  0.650000  0.333333   1    2   9.785714       2  0.6429  \n",
              "122  0.000000  0.333333   0    0  56.571429      24  2.7857  \n",
              "123  0.842105  0.875000   1    1  13.500000       5  1.7500  \n",
              "124  0.000000  0.379630   0    0  18.222222      11  1.4444  \n",
              "\n",
              "[125 rows x 20 columns]"
            ]
          },
          "execution_count": 193,
          "metadata": {},
          "output_type": "execute_result"
        }
      ],
      "source": [
        "X"
      ]
    },
    {
      "cell_type": "code",
      "execution_count": null,
      "metadata": {
        "id": "YhQ3WrqbKMhi"
      },
      "outputs": [],
      "source": [
        "from sklearn.datasets import make_classification\n",
        "from sklearn.ensemble import RandomForestClassifier\n",
        "from sklearn.feature_selection import RFE\n",
        "from sklearn.model_selection import train_test_split\n",
        "from sklearn.metrics import accuracy_score\n"
      ]
    },
    {
      "cell_type": "code",
      "execution_count": null,
      "metadata": {
        "colab": {
          "base_uri": "https://localhost:8080/"
        },
        "id": "zMfN_uraKVSQ",
        "outputId": "e57ee74a-a8fe-4e60-ed67-5ad80dd55159"
      },
      "outputs": [
        {
          "name": "stdout",
          "output_type": "stream",
          "text": [
            "Testing Accuracy: 0.64\n"
          ]
        }
      ],
      "source": [
        "X_train, X_test, y_train, y_test = train_test_split(X, y, test_size=0.2, random_state=42)\n",
        "\n",
        "# Train Random Forest model on the selected features\n",
        "clf = RandomForestClassifier(n_estimators=50, random_state=42)\n",
        "clf.fit(X_train, y_train)\n",
        "\n",
        "# Predictions\n",
        "y_pred_test = clf.predict(X_test)\n",
        "\n",
        "# Evaluate model\n",
        "test_accuracy = accuracy_score(y_test, y_pred_test)\n",
        "\n",
        "print(\"Testing Accuracy:\", test_accuracy)"
      ]
    },
    {
      "cell_type": "code",
      "execution_count": null,
      "metadata": {
        "colab": {
          "base_uri": "https://localhost:8080/"
        },
        "id": "-igOW5151vQI",
        "outputId": "5234ff4b-6986-4b69-fb5e-eea6e1a3017a"
      },
      "outputs": [
        {
          "name": "stdout",
          "output_type": "stream",
          "text": [
            "Selected Features:\n",
            "rfc\n",
            "lcom\n",
            "loc\n",
            "cam\n",
            "amc\n"
          ]
        }
      ],
      "source": [
        "import pandas as pd\n",
        "from sklearn.feature_selection import RFE\n",
        "from sklearn.linear_model import LinearRegression\n",
        "\n",
        "# Create a linear regression model\n",
        "estimator = RandomForestClassifier(n_estimators=50, random_state=42)\n",
        "\n",
        "# Create the RFE model\n",
        "# Change the number of features you want to select as needed\n",
        "rfe = RFE(estimator, n_features_to_select=5)\n",
        "\n",
        "# Fit the RFE model to the data\n",
        "rfe.fit(X, y)\n",
        "\n",
        "# Print the selected features\n",
        "print(\"Selected Features:\")\n",
        "for i in range(len(rfe.support_)):\n",
        "    if rfe.support_[i]:\n",
        "        print(df.columns[i])\n",
        "\n",
        "selected_feature_indices = rfe.support_\n",
        "\n",
        "# Extract the selected feature names\n",
        "selected_feature_names = X.columns[selected_feature_indices]\n",
        "\n",
        "# Create a new DataFrame containing only the selected columns\n",
        "selected_df = df[selected_feature_names]\n"
      ]
    },
    {
      "cell_type": "code",
      "execution_count": null,
      "metadata": {
        "colab": {
          "base_uri": "https://localhost:8080/",
          "height": 424
        },
        "id": "IMt6vqIm3GWB",
        "outputId": "855de58a-d44a-417e-953b-34a715f8ed3f"
      },
      "outputs": [
        {
          "data": {
            "text/html": [
              "<div>\n",
              "<style scoped>\n",
              "    .dataframe tbody tr th:only-of-type {\n",
              "        vertical-align: middle;\n",
              "    }\n",
              "\n",
              "    .dataframe tbody tr th {\n",
              "        vertical-align: top;\n",
              "    }\n",
              "\n",
              "    .dataframe thead th {\n",
              "        text-align: right;\n",
              "    }\n",
              "</style>\n",
              "<table border=\"1\" class=\"dataframe\">\n",
              "  <thead>\n",
              "    <tr style=\"text-align: right;\">\n",
              "      <th></th>\n",
              "      <th>rfc</th>\n",
              "      <th>lcom</th>\n",
              "      <th>loc</th>\n",
              "      <th>cam</th>\n",
              "      <th>amc</th>\n",
              "    </tr>\n",
              "  </thead>\n",
              "  <tbody>\n",
              "    <tr>\n",
              "      <th>0</th>\n",
              "      <td>42</td>\n",
              "      <td>29</td>\n",
              "      <td>395</td>\n",
              "      <td>0.232323</td>\n",
              "      <td>34.545455</td>\n",
              "    </tr>\n",
              "    <tr>\n",
              "      <th>1</th>\n",
              "      <td>32</td>\n",
              "      <td>49</td>\n",
              "      <td>257</td>\n",
              "      <td>0.307692</td>\n",
              "      <td>16.857143</td>\n",
              "    </tr>\n",
              "    <tr>\n",
              "      <th>2</th>\n",
              "      <td>9</td>\n",
              "      <td>0</td>\n",
              "      <td>58</td>\n",
              "      <td>0.666667</td>\n",
              "      <td>17.333333</td>\n",
              "    </tr>\n",
              "    <tr>\n",
              "      <th>3</th>\n",
              "      <td>37</td>\n",
              "      <td>32</td>\n",
              "      <td>310</td>\n",
              "      <td>0.458333</td>\n",
              "      <td>24.083333</td>\n",
              "    </tr>\n",
              "    <tr>\n",
              "      <th>4</th>\n",
              "      <td>21</td>\n",
              "      <td>1</td>\n",
              "      <td>136</td>\n",
              "      <td>0.416667</td>\n",
              "      <td>21.000000</td>\n",
              "    </tr>\n",
              "    <tr>\n",
              "      <th>...</th>\n",
              "      <td>...</td>\n",
              "      <td>...</td>\n",
              "      <td>...</td>\n",
              "      <td>...</td>\n",
              "      <td>...</td>\n",
              "    </tr>\n",
              "    <tr>\n",
              "      <th>120</th>\n",
              "      <td>155</td>\n",
              "      <td>1670</td>\n",
              "      <td>1504</td>\n",
              "      <td>0.244141</td>\n",
              "      <td>21.830769</td>\n",
              "    </tr>\n",
              "    <tr>\n",
              "      <th>121</th>\n",
              "      <td>28</td>\n",
              "      <td>0</td>\n",
              "      <td>153</td>\n",
              "      <td>0.333333</td>\n",
              "      <td>9.785714</td>\n",
              "    </tr>\n",
              "    <tr>\n",
              "      <th>122</th>\n",
              "      <td>63</td>\n",
              "      <td>63</td>\n",
              "      <td>822</td>\n",
              "      <td>0.333333</td>\n",
              "      <td>56.571429</td>\n",
              "    </tr>\n",
              "    <tr>\n",
              "      <th>123</th>\n",
              "      <td>16</td>\n",
              "      <td>0</td>\n",
              "      <td>59</td>\n",
              "      <td>0.875000</td>\n",
              "      <td>13.500000</td>\n",
              "    </tr>\n",
              "    <tr>\n",
              "      <th>124</th>\n",
              "      <td>63</td>\n",
              "      <td>297</td>\n",
              "      <td>527</td>\n",
              "      <td>0.379630</td>\n",
              "      <td>18.222222</td>\n",
              "    </tr>\n",
              "  </tbody>\n",
              "</table>\n",
              "<p>125 rows × 5 columns</p>\n",
              "</div>"
            ],
            "text/plain": [
              "     rfc  lcom   loc       cam        amc\n",
              "0     42    29   395  0.232323  34.545455\n",
              "1     32    49   257  0.307692  16.857143\n",
              "2      9     0    58  0.666667  17.333333\n",
              "3     37    32   310  0.458333  24.083333\n",
              "4     21     1   136  0.416667  21.000000\n",
              "..   ...   ...   ...       ...        ...\n",
              "120  155  1670  1504  0.244141  21.830769\n",
              "121   28     0   153  0.333333   9.785714\n",
              "122   63    63   822  0.333333  56.571429\n",
              "123   16     0    59  0.875000  13.500000\n",
              "124   63   297   527  0.379630  18.222222\n",
              "\n",
              "[125 rows x 5 columns]"
            ]
          },
          "execution_count": 197,
          "metadata": {},
          "output_type": "execute_result"
        }
      ],
      "source": [
        "selected_df"
      ]
    },
    {
      "cell_type": "code",
      "execution_count": null,
      "metadata": {
        "id": "x6eL1G_D3lH9"
      },
      "outputs": [],
      "source": [
        "X_RFE = selected_df\n",
        "y_RFE = df['bug']"
      ]
    },
    {
      "cell_type": "code",
      "execution_count": null,
      "metadata": {
        "colab": {
          "base_uri": "https://localhost:8080/"
        },
        "id": "7sQbojn23uz2",
        "outputId": "758abfd4-ed5a-4bb4-f138-9874eb56abc6"
      },
      "outputs": [
        {
          "data": {
            "text/plain": [
              "0      0\n",
              "1      1\n",
              "2      0\n",
              "3      0\n",
              "4      0\n",
              "      ..\n",
              "120    0\n",
              "121    0\n",
              "122    1\n",
              "123    0\n",
              "124    0\n",
              "Name: bug, Length: 125, dtype: int64"
            ]
          },
          "execution_count": 199,
          "metadata": {},
          "output_type": "execute_result"
        }
      ],
      "source": [
        "y_RFE"
      ]
    },
    {
      "cell_type": "code",
      "execution_count": null,
      "metadata": {
        "colab": {
          "base_uri": "https://localhost:8080/"
        },
        "id": "I-JxOwqP3Wxz",
        "outputId": "e155cc0a-4b13-4d58-cdfc-aec79d3c6894"
      },
      "outputs": [
        {
          "name": "stdout",
          "output_type": "stream",
          "text": [
            "Testing Accuracy: 0.8421052631578947\n"
          ]
        }
      ],
      "source": [
        "X_train, X_test, y_train, y_test = train_test_split(X_RFE, y_RFE, test_size=0.3, random_state=42)\n",
        "\n",
        "# Train Random Forest model on the selected features\n",
        "clf = RandomForestClassifier(n_estimators=50, random_state=42)\n",
        "clf.fit(X_train, y_train)\n",
        "\n",
        "# Predictions\n",
        "y_pred_test = clf.predict(X_test)\n",
        "\n",
        "# Evaluate model\n",
        "test_accuracy = accuracy_score(y_test, y_pred_test)\n",
        "\n",
        "print(\"Testing Accuracy:\", test_accuracy)"
      ]
    },
    {
      "cell_type": "code",
      "execution_count": null,
      "metadata": {
        "id": "66OT6uqs09Wu",
        "outputId": "9d7cd512-649e-4cc8-cb03-9e3159bbeaed"
      },
      "outputs": [
        {
          "data": {
            "text/html": [
              "<div>\n",
              "<style scoped>\n",
              "    .dataframe tbody tr th:only-of-type {\n",
              "        vertical-align: middle;\n",
              "    }\n",
              "\n",
              "    .dataframe tbody tr th {\n",
              "        vertical-align: top;\n",
              "    }\n",
              "\n",
              "    .dataframe thead th {\n",
              "        text-align: right;\n",
              "    }\n",
              "</style>\n",
              "<table border=\"1\" class=\"dataframe\">\n",
              "  <thead>\n",
              "    <tr style=\"text-align: right;\">\n",
              "      <th></th>\n",
              "      <th>PredictedBug</th>\n",
              "    </tr>\n",
              "  </thead>\n",
              "  <tbody>\n",
              "    <tr>\n",
              "      <th>18</th>\n",
              "      <td>0</td>\n",
              "    </tr>\n",
              "    <tr>\n",
              "      <th>42</th>\n",
              "      <td>0</td>\n",
              "    </tr>\n",
              "    <tr>\n",
              "      <th>36</th>\n",
              "      <td>0</td>\n",
              "    </tr>\n",
              "  </tbody>\n",
              "</table>\n",
              "</div>"
            ],
            "text/plain": [
              "    PredictedBug\n",
              "18             0\n",
              "42             0\n",
              "36             0"
            ]
          },
          "execution_count": 201,
          "metadata": {},
          "output_type": "execute_result"
        }
      ],
      "source": [
        "y_preds = pd.DataFrame(data={'PredictedBug': y_pred_test}, index=y_test.index)\n",
        "y_preds.head(3)"
      ]
    },
    {
      "cell_type": "code",
      "execution_count": null,
      "metadata": {
        "id": "EKqueUe009Wu"
      },
      "outputs": [],
      "source": [
        "combined_testing_data = X_test.join(y_test.to_frame())\n",
        "combined_testing_data = combined_testing_data.join(y_preds)\n",
        "combined_testing_data.head(3)\n",
        "# total num of rows\n",
        "total_rows = len(combined_testing_data)"
      ]
    },
    {
      "cell_type": "code",
      "execution_count": null,
      "metadata": {
        "id": "ZO-y7K-s09Wu",
        "outputId": "442c23b3-8d8b-4d0b-b722-e8a8b637aee9"
      },
      "outputs": [
        {
          "name": "stdout",
          "output_type": "stream",
          "text": [
            "The model correctly predicted  84.2 % of testing data\n"
          ]
        }
      ],
      "source": [
        "correctly_predicted_data = combined_testing_data[combined_testing_data['bug']==combined_testing_data['PredictedBug']]\n",
        "correctly_predicted_rows = len(correctly_predicted_data)\n",
        "print('The model correctly predicted ', round((correctly_predicted_rows / total_rows), 3) * 100, '% of testing data')"
      ]
    },
    {
      "cell_type": "code",
      "execution_count": null,
      "metadata": {
        "id": "FR1UqmeR09Wu",
        "outputId": "0c6a85f6-2590-4403-8aed-055955a10415"
      },
      "outputs": [
        {
          "data": {
            "text/html": [
              "<div>\n",
              "<style scoped>\n",
              "    .dataframe tbody tr th:only-of-type {\n",
              "        vertical-align: middle;\n",
              "    }\n",
              "\n",
              "    .dataframe tbody tr th {\n",
              "        vertical-align: top;\n",
              "    }\n",
              "\n",
              "    .dataframe thead th {\n",
              "        text-align: right;\n",
              "    }\n",
              "</style>\n",
              "<table border=\"1\" class=\"dataframe\">\n",
              "  <thead>\n",
              "    <tr style=\"text-align: right;\">\n",
              "      <th></th>\n",
              "      <th>rfc</th>\n",
              "      <th>lcom</th>\n",
              "      <th>loc</th>\n",
              "      <th>cam</th>\n",
              "      <th>amc</th>\n",
              "      <th>bug</th>\n",
              "      <th>PredictedBug</th>\n",
              "    </tr>\n",
              "  </thead>\n",
              "  <tbody>\n",
              "    <tr>\n",
              "      <th>53</th>\n",
              "      <td>73</td>\n",
              "      <td>112</td>\n",
              "      <td>502</td>\n",
              "      <td>0.170455</td>\n",
              "      <td>28.176471</td>\n",
              "      <td>1</td>\n",
              "      <td>1</td>\n",
              "    </tr>\n",
              "  </tbody>\n",
              "</table>\n",
              "</div>"
            ],
            "text/plain": [
              "    rfc  lcom  loc       cam        amc  bug  PredictedBug\n",
              "53   73   112  502  0.170455  28.176471    1             1"
            ]
          },
          "execution_count": 204,
          "metadata": {},
          "output_type": "execute_result"
        }
      ],
      "source": [
        "correctly_predicted_bug = correctly_predicted_data[correctly_predicted_data['bug']==True]\n",
        "correctly_predicted_bug.head(3)"
      ]
    },
    {
      "cell_type": "code",
      "execution_count": null,
      "metadata": {
        "id": "kPN0ux1U09Wu"
      },
      "outputs": [],
      "source": [
        "# select all rows and feature cols\n",
        "feature_cols = correctly_predicted_bug.iloc[:, :-2]\n",
        "# selected all rows and one label col (either RealBug or PredictedBug is fine since they are the same)\n",
        "label_col = correctly_predicted_bug.iloc[:, -2]"
      ]
    },
    {
      "cell_type": "code",
      "execution_count": null,
      "metadata": {
        "id": "h2D7U-a509Wv",
        "outputId": "e87153b0-321c-487f-c32a-edb187769ed8"
      },
      "outputs": [
        {
          "name": "stdout",
          "output_type": "stream",
          "text": [
            "one row of feature: \n",
            "\n",
            "     rfc  lcom  loc       cam        amc\n",
            "53   73   112  502  0.170455  28.176471 \n",
            "\n",
            "one row of label: \n",
            "\n",
            " 53    1\n",
            "Name: bug, dtype: int64\n"
          ]
        }
      ],
      "source": [
        "# decide which row to be selected\n",
        "selected_row = 0\n",
        "# select the row in X_test which contains all of the feature values\n",
        "X_explain = feature_cols.iloc[[selected_row]]\n",
        "# select the corresponding label from the DataFrame that we just created above\n",
        "y_explain = label_col.iloc[[selected_row]]\n",
        "print('one row of feature:', '\\n\\n', X_explain, '\\n')\n",
        "print('one row of label:', '\\n\\n', y_explain)"
      ]
    },
    {
      "cell_type": "code",
      "execution_count": null,
      "metadata": {
        "id": "ZUZtTWgT4D16"
      },
      "outputs": [],
      "source": [
        "from pyexplainer import pyexplainer_pyexplainer\n",
        "\n",
        "py_explainer = pyexplainer_pyexplainer.PyExplainer(X_train = X_train,\n",
        "                                                   y_train = y_train,\n",
        "                                                   indep = X_train.columns,\n",
        "                                                   dep = 'bug',\n",
        "                                                   blackbox_model = clf)"
      ]
    },
    {
      "cell_type": "code",
      "execution_count": null,
      "metadata": {
        "id": "ut_xHH-409Wv",
        "outputId": "a72770bb-6fec-40b5-d76b-1b711050e8c5"
      },
      "outputs": [
        {
          "data": {
            "text/plain": [
              "Index(['rfc', 'lcom', 'loc', 'cam', 'amc'], dtype='object')"
            ]
          },
          "execution_count": 208,
          "metadata": {},
          "output_type": "execute_result"
        }
      ],
      "source": [
        "X_train.columns"
      ]
    },
    {
      "cell_type": "code",
      "execution_count": null,
      "metadata": {
        "id": "ZYvSN7Hd09Wv"
      },
      "outputs": [],
      "source": []
    },
    {
      "cell_type": "code",
      "execution_count": null,
      "metadata": {
        "id": "DRi8S_ic09Wv"
      },
      "outputs": [],
      "source": [
        "X_explain.reset_index(drop=True, inplace=True)"
      ]
    },
    {
      "cell_type": "code",
      "execution_count": null,
      "metadata": {
        "id": "eGO3jSMA09Ww",
        "outputId": "0325c350-5bce-4071-a023-408c94a69f5f"
      },
      "outputs": [
        {
          "name": "stderr",
          "output_type": "stream",
          "text": [
            "D:\\Anaconda\\lib\\site-packages\\pyexplainer\\pyexplainer_pyexplainer.py:888: FutureWarning: The frame.append method is deprecated and will be removed from pandas in a future version. Use pandas.concat instead.\n",
            "  top_fourty_df = top_fourty_df.append(\n",
            "D:\\Anaconda\\lib\\site-packages\\pyexplainer\\pyexplainer_pyexplainer.py:888: FutureWarning: The frame.append method is deprecated and will be removed from pandas in a future version. Use pandas.concat instead.\n",
            "  top_fourty_df = top_fourty_df.append(\n",
            "D:\\Anaconda\\lib\\site-packages\\pyexplainer\\pyexplainer_pyexplainer.py:920: FutureWarning: The frame.append method is deprecated and will be removed from pandas in a future version. Use pandas.concat instead.\n",
            "  final_neighbours_similarity_df = final_neighbours_similarity_df.append(\n",
            "D:\\Anaconda\\lib\\site-packages\\pyexplainer\\pyexplainer_pyexplainer.py:920: FutureWarning: The frame.append method is deprecated and will be removed from pandas in a future version. Use pandas.concat instead.\n",
            "  final_neighbours_similarity_df = final_neighbours_similarity_df.append(\n",
            "D:\\Anaconda\\lib\\site-packages\\pyexplainer\\pyexplainer_pyexplainer.py:971: FutureWarning: The frame.append method is deprecated and will be removed from pandas in a future version. Use pandas.concat instead.\n",
            "  new_con_df = new_con_df.append(new_ins, ignore_index=True)\n",
            "D:\\Anaconda\\lib\\site-packages\\pyexplainer\\pyexplainer_pyexplainer.py:997: FutureWarning: The frame.append method is deprecated and will be removed from pandas in a future version. Use pandas.concat instead.\n",
            "  new_con_df = new_con_df.append(new_ins, ignore_index=True)\n",
            "D:\\Anaconda\\lib\\site-packages\\pyexplainer\\pyexplainer_pyexplainer.py:1000: FutureWarning: The frame.append method is deprecated and will be removed from pandas in a future version. Use pandas.concat instead.\n",
            "  predict_dataset = train_set_neigh.append(\n"
          ]
        }
      ],
      "source": [
        "rules = py_explainer.explain(X_explain=X_explain,\n",
        "                             y_explain=y_explain,\n",
        "                             search_function='crossoverinterpolation')"
      ]
    },
    {
      "cell_type": "code",
      "execution_count": null,
      "metadata": {
        "id": "BSQVLxMu09Ww",
        "outputId": "8d5d7e4d-c355-4b73-8861-8999d3086e82"
      },
      "outputs": [
        {
          "data": {
            "text/plain": [
              "dict_keys(['synthetic_data', 'synthetic_predictions', 'X_explain', 'y_explain', 'indep', 'dep', 'top_k_positive_rules', 'top_k_negative_rules', 'local_rulefit_model'])"
            ]
          },
          "execution_count": 211,
          "metadata": {},
          "output_type": "execute_result"
        }
      ],
      "source": [
        "rules.keys()"
      ]
    },
    {
      "cell_type": "code",
      "execution_count": null,
      "metadata": {
        "colab": {
          "referenced_widgets": [
            "85a430fe35c64604950da6663a408ce9",
            "c6c9c1e4bfe64a46821e75b5a7f1a5a5",
            "6ef6de07847b4dcf999fee2d5e49d4c5"
          ]
        },
        "id": "7TRf-LUs09Ww",
        "outputId": "16c11399-5dfe-4c83-a100-1e1ff6f2c28e"
      },
      "outputs": [
        {
          "data": {
            "application/vnd.jupyter.widget-view+json": {
              "model_id": "85a430fe35c64604950da6663a408ce9",
              "version_major": 2,
              "version_minor": 0
            },
            "text/plain": [
              "HBox(children=(Label(value='Risk Score: '), FloatProgress(value=0.0, bar_style='info', layout=Layout(width='40…"
            ]
          },
          "metadata": {},
          "output_type": "display_data"
        },
        {
          "data": {
            "application/vnd.jupyter.widget-view+json": {
              "model_id": "c6c9c1e4bfe64a46821e75b5a7f1a5a5",
              "version_major": 2,
              "version_minor": 0
            },
            "text/plain": [
              "Output(layout=Layout(border='3px solid black'))"
            ]
          },
          "metadata": {},
          "output_type": "display_data"
        },
        {
          "data": {
            "application/vnd.jupyter.widget-view+json": {
              "model_id": "6ef6de07847b4dcf999fee2d5e49d4c5",
              "version_major": 2,
              "version_minor": 0
            },
            "text/plain": [
              "FloatSlider(value=28.18, continuous_update=False, description='#1 The value of amc is less than 28.18', layout…"
            ]
          },
          "metadata": {},
          "output_type": "display_data"
        }
      ],
      "source": [
        "py_explainer.visualise(rules)"
      ]
    }
  ],
  "metadata": {
    "colab": {
      "provenance": []
    },
    "kernelspec": {
      "display_name": "Python 3 (ipykernel)",
      "language": "python",
      "name": "python3"
    },
    "language_info": {
      "codemirror_mode": {
        "name": "ipython",
        "version": 3
      },
      "file_extension": ".py",
      "mimetype": "text/x-python",
      "name": "python",
      "nbconvert_exporter": "python",
      "pygments_lexer": "ipython3",
      "version": "3.10.9"
    }
  },
  "nbformat": 4,
  "nbformat_minor": 0
}